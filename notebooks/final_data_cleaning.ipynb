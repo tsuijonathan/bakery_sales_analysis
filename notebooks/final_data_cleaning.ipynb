{
 "cells": [
  {
   "cell_type": "code",
   "execution_count": 1,
   "metadata": {},
   "outputs": [],
   "source": [
    "import pandas as pd \n",
    "import numpy as np\n",
    "import holidays"
   ]
  },
  {
   "cell_type": "code",
   "execution_count": 2,
   "metadata": {},
   "outputs": [],
   "source": [
    "sales_df = pd.read_csv('../data/clean/merged_sales.csv')\n",
    "climate_df = pd.read_csv('../data/clean/merged_climate.csv')"
   ]
  },
  {
   "cell_type": "code",
   "execution_count": 3,
   "metadata": {},
   "outputs": [],
   "source": [
    "# Merge the sales and climate datasets on the 'date' column\n",
    "df = pd.merge(sales_df, climate_df, on='date', how='inner')"
   ]
  },
  {
   "cell_type": "code",
   "execution_count": 4,
   "metadata": {},
   "outputs": [
    {
     "name": "stdout",
     "output_type": "stream",
     "text": [
      "<class 'pandas.core.frame.DataFrame'>\n",
      "RangeIndex: 708 entries, 0 to 707\n",
      "Data columns (total 20 columns):\n",
      " #   Column             Non-Null Count  Dtype  \n",
      "---  ------             --------------  -----  \n",
      " 0   date               708 non-null    object \n",
      " 1   day                708 non-null    object \n",
      " 2   gross_sales        708 non-null    float64\n",
      " 3   returns            708 non-null    float64\n",
      " 4   discounts_comps    708 non-null    float64\n",
      " 5   net_sales          708 non-null    float64\n",
      " 6   gift_card_sales    708 non-null    float64\n",
      " 7   tax                708 non-null    float64\n",
      " 8   tip                708 non-null    float64\n",
      " 9   refunds_by_amount  708 non-null    float64\n",
      " 10  total_collected    708 non-null    float64\n",
      " 11  cash               708 non-null    float64\n",
      " 12  card               708 non-null    float64\n",
      " 13  gift_card          708 non-null    float64\n",
      " 14  fees               708 non-null    float64\n",
      " 15  is_store_open      708 non-null    int64  \n",
      " 16  mean_temp_c        708 non-null    float64\n",
      " 17  total_rain_mm      708 non-null    float64\n",
      " 18  total_precip_mm    708 non-null    float64\n",
      " 19  total_snow_mm      708 non-null    float64\n",
      "dtypes: float64(17), int64(1), object(2)\n",
      "memory usage: 110.8+ KB\n"
     ]
    }
   ],
   "source": [
    "df.info()"
   ]
  },
  {
   "cell_type": "code",
   "execution_count": 5,
   "metadata": {},
   "outputs": [],
   "source": [
    "# Get holidays for Ontario, Canada\n",
    "ontario_holidays = holidays.Canada(prov=\"ON\")"
   ]
  },
  {
   "cell_type": "code",
   "execution_count": 6,
   "metadata": {},
   "outputs": [],
   "source": [
    "# Filter for 2023 and 2024\n",
    "ontario_holidays_2023_2024 = {date: name for date, name in sorted(ontario_holidays.items()) if date.year in [2023, 2024]}"
   ]
  },
  {
   "cell_type": "code",
   "execution_count": 8,
   "metadata": {},
   "outputs": [
    {
     "data": {
      "text/html": [
       "<div>\n",
       "<style scoped>\n",
       "    .dataframe tbody tr th:only-of-type {\n",
       "        vertical-align: middle;\n",
       "    }\n",
       "\n",
       "    .dataframe tbody tr th {\n",
       "        vertical-align: top;\n",
       "    }\n",
       "\n",
       "    .dataframe thead th {\n",
       "        text-align: right;\n",
       "    }\n",
       "</style>\n",
       "<table border=\"1\" class=\"dataframe\">\n",
       "  <thead>\n",
       "    <tr style=\"text-align: right;\">\n",
       "      <th></th>\n",
       "      <th>Date</th>\n",
       "      <th>Holiday Name</th>\n",
       "      <th>is_holiday</th>\n",
       "    </tr>\n",
       "  </thead>\n",
       "  <tbody>\n",
       "  </tbody>\n",
       "</table>\n",
       "</div>"
      ],
      "text/plain": [
       "Empty DataFrame\n",
       "Columns: [Date, Holiday Name, is_holiday]\n",
       "Index: []"
      ]
     },
     "metadata": {},
     "output_type": "display_data"
    }
   ],
   "source": [
    "# Create a DataFrame\n",
    "ontario_holidays_df = pd.DataFrame(list(ontario_holidays_2023_2024.items()), columns=['Date', 'Holiday Name'])\n",
    "\n",
    "# Add an 'is_holiday' column\n",
    "ontario_holidays_df['is_holiday'] = True\n",
    "\n",
    "# Display the DataFrame\n",
    "display(ontario_holidays_df)"
   ]
  }
 ],
 "metadata": {
  "kernelspec": {
   "display_name": "base",
   "language": "python",
   "name": "python3"
  },
  "language_info": {
   "codemirror_mode": {
    "name": "ipython",
    "version": 3
   },
   "file_extension": ".py",
   "mimetype": "text/x-python",
   "name": "python",
   "nbconvert_exporter": "python",
   "pygments_lexer": "ipython3",
   "version": "3.12.2"
  }
 },
 "nbformat": 4,
 "nbformat_minor": 2
}
